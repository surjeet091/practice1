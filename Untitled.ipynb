{
 "cells": [
  {
   "cell_type": "code",
   "execution_count": null,
   "id": "93a41731",
   "metadata": {},
   "outputs": [],
   "source": [
    "import requests\n",
    "from bs4 import BeautifulSoup as bs\n",
    "import sys\n",
    "import time\n",
    "import math"
   ]
  },
  {
   "cell_type": "code",
   "execution_count": null,
   "id": "03bcb388",
   "metadata": {},
   "outputs": [],
   "source": [
    "page=requests.get('https://www.cricbuzz.com')"
   ]
  },
  {
   "cell_type": "code",
   "execution_count": null,
   "id": "fc57b9be",
   "metadata": {},
   "outputs": [],
   "source": [
    "page"
   ]
  },
  {
   "cell_type": "code",
   "execution_count": null,
   "id": "dad55f62",
   "metadata": {},
   "outputs": [],
   "source": [
    "soup=bs(page.text,'html.parser')"
   ]
  },
  {
   "cell_type": "code",
   "execution_count": null,
   "id": "31550491",
   "metadata": {},
   "outputs": [],
   "source": [
    "soup.prettify"
   ]
  },
  {
   "cell_type": "code",
   "execution_count": null,
   "id": "f94a1e7e",
   "metadata": {},
   "outputs": [],
   "source": [
    "a=soup.find_all('div',attrs={'class':'cb-nws-intr'})"
   ]
  },
  {
   "cell_type": "code",
   "execution_count": null,
   "id": "2e92ffc6",
   "metadata": {},
   "outputs": [],
   "source": []
  },
  {
   "cell_type": "code",
   "execution_count": null,
   "id": "a7f676c0",
   "metadata": {},
   "outputs": [],
   "source": [
    "b=[]\n",
    "for i in a:\n",
    "    print(i.text)\n",
    "    \n",
    "    \n",
    "    "
   ]
  },
  {
   "cell_type": "code",
   "execution_count": null,
   "id": "98b7ab19",
   "metadata": {},
   "outputs": [],
   "source": [
    "l1=[1,2,3,4,5,6,7,9,8]"
   ]
  },
  {
   "cell_type": "code",
   "execution_count": null,
   "id": "fd5de602",
   "metadata": {},
   "outputs": [],
   "source": [
    "Sum = sum(l1)\n",
    "print(Sum)\n",
    "    \n",
    "    \n",
    "    "
   ]
  },
  {
   "cell_type": "code",
   "execution_count": null,
   "id": "4e39497b",
   "metadata": {},
   "outputs": [],
   "source": [
    "num=int(input(\"enter the number\"))\n",
    "factorial=1\n",
    "if num<0:\n",
    "    print('factorial is not valid for negative numbers')\n",
    "elif num==0:\n",
    "    print(\"factorial for 0 is 1\")\n",
    "else:\n",
    "    for i in range(1, num+1):\n",
    "        factorial=factorial*i\n",
    "    print(\"the fatorial is\",num,\"is\",factorial)\n",
    "    "
   ]
  },
  {
   "cell_type": "code",
   "execution_count": null,
   "id": "9a92a317",
   "metadata": {},
   "outputs": [],
   "source": [
    "print('this is a guessing game')\n",
    "import random\n",
    "random_number=random.randrange(1,10)\n",
    "guess=(int(input(\"what whould be the number ?\")))\n",
    "correct=False\n",
    "print(random_number)\n",
    "\n",
    "while not correct:\n",
    "    if guess==random_number:\n",
    "        print('congrats you got it')\n",
    "        correct=True\n",
    "    elif guess>random_number:\n",
    "        print('too high')\n",
    "        break\n",
    "    elif guess<random_number:\n",
    "        print('too low')\n",
    "        break\n",
    "    else:\n",
    "        print('try somthing else')\n",
    "        break\n",
    "    \n"
   ]
  },
  {
   "cell_type": "code",
   "execution_count": null,
   "id": "88d0d19b",
   "metadata": {},
   "outputs": [],
   "source": [
    "my_list=[1,2,3,4,5,9,8,7,6]"
   ]
  },
  {
   "cell_type": "code",
   "execution_count": null,
   "id": "6aff8a75",
   "metadata": {},
   "outputs": [],
   "source": [
    "sum=0\n",
    "for i in range(0,len(my_list)):\n",
    "    sum=sum+my_list[i]\n",
    "print(sum)\n",
    "    "
   ]
  },
  {
   "cell_type": "code",
   "execution_count": null,
   "id": "fa46efc6",
   "metadata": {},
   "outputs": [],
   "source": [
    "multiply=1\n",
    "for i in range(0,len(my_list)):\n",
    "    multiply=multiply*my_list[i]\n",
    "print(multiply)"
   ]
  },
  {
   "cell_type": "code",
   "execution_count": null,
   "id": "f77006cd",
   "metadata": {},
   "outputs": [],
   "source": [
    "sub=0\n",
    "for i in range(0,len(my_list)):\n",
    "    sub=sub-my_list[i]\n",
    "print(sub)"
   ]
  },
  {
   "cell_type": "code",
   "execution_count": null,
   "id": "e102c40b",
   "metadata": {},
   "outputs": [],
   "source": [
    "\n",
    "for i in  range(1,11):\n",
    "    table=i*9\n",
    "    print(table)\n",
    "    \n",
    "    "
   ]
  },
  {
   "cell_type": "code",
   "execution_count": null,
   "id": "9cab4cf5",
   "metadata": {},
   "outputs": [],
   "source": [
    "l=set([1,2,3,6,5,4,9,4,5,6,3])"
   ]
  },
  {
   "cell_type": "code",
   "execution_count": null,
   "id": "6348b070",
   "metadata": {},
   "outputs": [],
   "source": [
    "l"
   ]
  },
  {
   "cell_type": "code",
   "execution_count": null,
   "id": "8b589642",
   "metadata": {},
   "outputs": [],
   "source": [
    " for i in range(0,len(l)):\n",
    "        print(i)"
   ]
  },
  {
   "cell_type": "code",
   "execution_count": null,
   "id": "df93438f",
   "metadata": {},
   "outputs": [],
   "source": [
    "l=[1,2,3,6,5,4,9,4,5,6,3]"
   ]
  },
  {
   "cell_type": "code",
   "execution_count": null,
   "id": "97778cb9",
   "metadata": {},
   "outputs": [],
   "source": [
    "print(len(l))"
   ]
  },
  {
   "cell_type": "code",
   "execution_count": null,
   "id": "86a73936",
   "metadata": {},
   "outputs": [],
   "source": []
  },
  {
   "cell_type": "code",
   "execution_count": null,
   "id": "7389b730",
   "metadata": {},
   "outputs": [],
   "source": [
    "print(len(s))"
   ]
  },
  {
   "cell_type": "code",
   "execution_count": null,
   "id": "2edc3916",
   "metadata": {},
   "outputs": [],
   "source": [
    "demo = \"Aakash is a good boy\" \n",
    "print(demo.endswith(\"boy\"))\n",
    "print(demo.count('o'))\n",
    "print(demo.capitalize())\n",
    "print(demo.upper())\n",
    "print(demo.lower())\n",
    "print(demo.find(\"is\")\n",
    "# print(demo.find(\"good\",\"nice\"))"
   ]
  },
  {
   "cell_type": "code",
   "execution_count": null,
   "id": "f2a80e2a",
   "metadata": {},
   "outputs": [],
   "source": [
    "mystr = \"harry is a good boy\"\n",
    "# print(len(mystr))\n",
    "# print(mystr[::-2])\n",
    "\n",
    "print(mystr.endswith(\"bdoy\"))\n",
    "print(mystr.count(\"o\"))\n",
    "print(mystr.capitalize())\n",
    "print(mystr.replace(\"is\", \"are\"))"
   ]
  },
  {
   "cell_type": "code",
   "execution_count": null,
   "id": "62d34d07",
   "metadata": {},
   "outputs": [],
   "source": [
    "print(mystr[::-1])"
   ]
  },
  {
   "cell_type": "code",
   "execution_count": null,
   "id": "d5d8c915",
   "metadata": {},
   "outputs": [],
   "source": [
    "print(mystr[-1:0])"
   ]
  },
  {
   "cell_type": "code",
   "execution_count": null,
   "id": "738633b1",
   "metadata": {},
   "outputs": [],
   "source": [
    "print(mystr.count(\"o\"))"
   ]
  },
  {
   "cell_type": "code",
   "execution_count": null,
   "id": "2d9c1c7e",
   "metadata": {},
   "outputs": [],
   "source": [
    "mystr.count('o')"
   ]
  },
  {
   "cell_type": "code",
   "execution_count": null,
   "id": "d74f9a34",
   "metadata": {},
   "outputs": [],
   "source": [
    "print(mystr.capitalize())"
   ]
  },
  {
   "cell_type": "code",
   "execution_count": null,
   "id": "28d45cfc",
   "metadata": {},
   "outputs": [],
   "source": [
    "print(mystr.endswith(\"bdoy\"))"
   ]
  },
  {
   "cell_type": "code",
   "execution_count": null,
   "id": "aa2d0cdc",
   "metadata": {},
   "outputs": [],
   "source": [
    "print(mystr.find(\"is\"))"
   ]
  },
  {
   "cell_type": "code",
   "execution_count": null,
   "id": "53db8f0d",
   "metadata": {},
   "outputs": [],
   "source": [
    "stri='rahul is my good friend he loves to eat food'"
   ]
  },
  {
   "cell_type": "code",
   "execution_count": null,
   "id": "97a04d6a",
   "metadata": {},
   "outputs": [],
   "source": [
    "print(stri.find(\"boy\"))"
   ]
  },
  {
   "cell_type": "code",
   "execution_count": null,
   "id": "72ff5d61",
   "metadata": {},
   "outputs": [],
   "source": [
    "print(\"enter your first number\")\n",
    "num1=int(input())\n",
    "print(\"select your operation\",\"+\",\"-\",\"*\",\"/\")\n",
    "op=input()\n",
    "print(\"enter your second number number\")\n",
    "num2=int(input())\n",
    "if op=='+':\n",
    "    print(num1,\"+\",num2,'is','=',num1+num2)\n",
    "elif op=='-':\n",
    "    print(num1,\"-\",num2,'is','=',num1-num2)\n",
    "elif op=='*':\n",
    "    print(num1,\"*\",num2,'is','=',num1*num2)\n",
    "elif op=='/':\n",
    "    if num2!=0:\n",
    "        print(num1,\"/\",num2,'is','=',num1/num2) \n",
    "    else:\n",
    "        print(\"devision by zero issue\")\n",
    "else:\n",
    "    print(\"select correct operation\")\n",
    "        \n",
    "    "
   ]
  },
  {
   "cell_type": "code",
   "execution_count": null,
   "id": "aa43dfd6",
   "metadata": {},
   "outputs": [],
   "source": [
    "#include <iostream>\n",
    "using namespace std;\n",
    "\n",
    "    \n",
    "\n",
    "    \n",
    "int main() {\n",
    "    float num1,num2;\n",
    "    char x;\n",
    "    //cout<<\"enter first number\"<<endl;\n",
    "    cin>>num1;\n",
    "    //cout<<\"enter second number\"<<endl;\n",
    "    cin>>num2;\n",
    "    cout<<\"enter a for addition\"<<endl;\n",
    "    cout<<\"enter b for sub\"<<endl;\n",
    "    cout<<\"enter c for mul\"<<endl;\n",
    "    cout<<\"enter d for devi\"<<endl;\n",
    "    cin>>x;\n",
    "    \n",
    "    if (x=='a')\n",
    "    cout<<num1 + num2<<endl;\n",
    "    else if (x=='b')\n",
    "    cout<<num1 - num2<<endl;\n",
    "    else if (x=='c')\n",
    "    cout<<num1 * num2<<endl;\n",
    "    else if (x=='d')\n",
    "    if (num2==0)\n",
    "    cout<<num1 / num2<<endl;\n",
    "    else\n",
    "        cout<<\"select the correct option\";\n",
    "    \n",
    "    \n",
    "\n",
    "\n",
    "    return 0;\n",
    "}"
   ]
  },
  {
   "cell_type": "code",
   "execution_count": null,
   "id": "08a1db16",
   "metadata": {},
   "outputs": [],
   "source": [
    "my_list=[1,23,6,5,4,7,8,9,8,7,4,5,1,2,3]\n",
    "sum=0\n",
    "for i in range(0,len(my_list)):\n",
    "    sum=sum+my_list[i]\n",
    "print(sum)\n",
    "    "
   ]
  },
  {
   "cell_type": "code",
   "execution_count": null,
   "id": "b7f29004",
   "metadata": {},
   "outputs": [],
   "source": [
    "sub=0\n",
    "for i in range(0,len(my_list)):\n",
    "    sub=sub-my_list[i]\n",
    "print(sub)    "
   ]
  },
  {
   "cell_type": "code",
   "execution_count": null,
   "id": "ada742b4",
   "metadata": {},
   "outputs": [],
   "source": [
    "m=1\n",
    "for i in range(0,9):\n",
    "    print()"
   ]
  },
  {
   "cell_type": "code",
   "execution_count": null,
   "id": "6043f8aa",
   "metadata": {},
   "outputs": [],
   "source": [
    "def area_of_traingle(base, height):\n",
    "    return 0.5*height*base\n",
    "    "
   ]
  },
  {
   "cell_type": "code",
   "execution_count": null,
   "id": "cc72a729",
   "metadata": {},
   "outputs": [],
   "source": [
    "area_of_traingle(5,8)"
   ]
  },
  {
   "cell_type": "code",
   "execution_count": null,
   "id": "4f8d111d",
   "metadata": {},
   "outputs": [],
   "source": [
    "f = [8,6,4,9,2]"
   ]
  },
  {
   "cell_type": "code",
   "execution_count": null,
   "id": "bdbc413b",
   "metadata": {},
   "outputs": [],
   "source": [
    "f[::-1]"
   ]
  },
  {
   "cell_type": "code",
   "execution_count": null,
   "id": "b6b1a53d",
   "metadata": {},
   "outputs": [],
   "source": []
  },
  {
   "cell_type": "code",
   "execution_count": null,
   "id": "11ad8f8d",
   "metadata": {},
   "outputs": [],
   "source": [
    "for i,k in enumerate(f):\n",
    "    print(i,k)\n",
    "    \n",
    "\n",
    "    \n",
    "    \n",
    "        \n",
    "        \n",
    "    \n",
    "    \n",
    "\n",
    "    "
   ]
  },
  {
   "cell_type": "code",
   "execution_count": null,
   "id": "1db274fd",
   "metadata": {},
   "outputs": [],
   "source": [
    "for i in range(1,10,2):\n",
    "    print(i)"
   ]
  },
  {
   "cell_type": "code",
   "execution_count": null,
   "id": "b5a9d0dc",
   "metadata": {},
   "outputs": [],
   "source": [
    "av=[2, 9, 4, 6, 8,7]"
   ]
  },
  {
   "cell_type": "code",
   "execution_count": null,
   "id": "0fbfd0b3",
   "metadata": {},
   "outputs": [],
   "source": [
    "b=[2, 9, 4, 6, 8,7]"
   ]
  },
  {
   "cell_type": "code",
   "execution_count": null,
   "id": "f9e5b360",
   "metadata": {},
   "outputs": [],
   "source": [
    "for i in range(1,16):\n",
    "    print(i)"
   ]
  },
  {
   "cell_type": "code",
   "execution_count": null,
   "id": "9940edb7",
   "metadata": {},
   "outputs": [],
   "source": [
    "for i in range(0,6):\n",
    "    print(av[i],b[i])"
   ]
  },
  {
   "cell_type": "code",
   "execution_count": null,
   "id": "93110618",
   "metadata": {},
   "outputs": [],
   "source": [
    "\n",
    "                \n",
    "        "
   ]
  },
  {
   "cell_type": "code",
   "execution_count": null,
   "id": "b3da24f6",
   "metadata": {},
   "outputs": [],
   "source": [
    "for i in range(0,len(av)):\n",
    "    if av[i]==2:\n",
    "        print(i)"
   ]
  },
  {
   "cell_type": "code",
   "execution_count": null,
   "id": "3c3345cb",
   "metadata": {},
   "outputs": [],
   "source": [
    "search(a,8)"
   ]
  },
  {
   "cell_type": "code",
   "execution_count": null,
   "id": "c8d8609c",
   "metadata": {},
   "outputs": [],
   "source": [
    "for i in range(0,len(a)):\n",
    "    if a[i]==9:\n",
    "        print(i)"
   ]
  },
  {
   "cell_type": "code",
   "execution_count": null,
   "id": "1a7383e8",
   "metadata": {},
   "outputs": [],
   "source": [
    "# list1 = [\"M\", \"na\", \"i\", \"Ke\"]\n",
    "# list2 = [\"y\", \"me\", \"s\", \"lly\"]"
   ]
  },
  {
   "cell_type": "code",
   "execution_count": null,
   "id": "578003db",
   "metadata": {},
   "outputs": [],
   "source": [
    "list3 = [100, 200, 300, 400, 500]"
   ]
  },
  {
   "cell_type": "code",
   "execution_count": null,
   "id": "a31a629a",
   "metadata": {},
   "outputs": [],
   "source": [
    "a=list3[::-1]"
   ]
  },
  {
   "cell_type": "code",
   "execution_count": null,
   "id": "b29a4f73",
   "metadata": {},
   "outputs": [],
   "source": [
    "a"
   ]
  },
  {
   "cell_type": "code",
   "execution_count": null,
   "id": "99e867fa",
   "metadata": {},
   "outputs": [],
   "source": [
    "for i in range(len(list1)):\n",
    "    print(list1[i]+list2[i])"
   ]
  },
  {
   "cell_type": "code",
   "execution_count": null,
   "id": "2f729b4b",
   "metadata": {},
   "outputs": [],
   "source": [
    "ab"
   ]
  },
  {
   "cell_type": "code",
   "execution_count": null,
   "id": "5b0ba49f",
   "metadata": {},
   "outputs": [],
   "source": [
    "numbers = [1, 2, 3, 4, 5, 6, 7]"
   ]
  },
  {
   "cell_type": "code",
   "execution_count": null,
   "id": "fc2cd47a",
   "metadata": {},
   "outputs": [],
   "source": [
    "sq=0\n",
    "for i in range(1,8):\n",
    "    print(i**2)"
   ]
  },
  {
   "cell_type": "code",
   "execution_count": null,
   "id": "6ddc209a",
   "metadata": {},
   "outputs": [],
   "source": [
    "list1 = [\"Hello \", \"take \"]\n",
    "list2 = [\"Dear\", \"Sir\"]\n",
    "for i in range(len(list1)):\n",
    "    print(list1[i]+list2[i],list1[i]+list2[i+1])\n"
   ]
  },
  {
   "cell_type": "code",
   "execution_count": null,
   "id": "75d64e4a",
   "metadata": {},
   "outputs": [],
   "source": [
    " print(list1[0],list2[0])"
   ]
  },
  {
   "cell_type": "code",
   "execution_count": null,
   "id": "b3061603",
   "metadata": {},
   "outputs": [],
   "source": [
    "for i in range(0,2):\n",
    "    for j in range(0,2):\n",
    "        print(list1[i],list2[j])"
   ]
  },
  {
   "cell_type": "code",
   "execution_count": null,
   "id": "f6045565",
   "metadata": {},
   "outputs": [],
   "source": [
    "list4 =[\"Mike\", \"\", \"Emma\", \"Kelly\", \"\", \"Brad\"]"
   ]
  },
  {
   "cell_type": "code",
   "execution_count": null,
   "id": "8c8eee0b",
   "metadata": {},
   "outputs": [],
   "source": [
    "res = list(filter(None, list4))\n",
    "print(res)"
   ]
  },
  {
   "cell_type": "code",
   "execution_count": null,
   "id": "91b582fa",
   "metadata": {},
   "outputs": [],
   "source": [
    "def filters2(list):\n",
    "    for i in range(0,len(list)):\n",
    "        if list[i]==\"\":\n",
    "            list[i].remove(\"\")\n",
    "            print(list)\n",
    "            "
   ]
  },
  {
   "cell_type": "code",
   "execution_count": null,
   "id": "4f5684ce",
   "metadata": {},
   "outputs": [],
   "source": [
    "filters2(list4)"
   ]
  },
  {
   "cell_type": "code",
   "execution_count": null,
   "id": "80d770ae",
   "metadata": {},
   "outputs": [],
   "source": [
    "list4.remove(\"\")"
   ]
  },
  {
   "cell_type": "code",
   "execution_count": null,
   "id": "889a4f46",
   "metadata": {},
   "outputs": [],
   "source": [
    "list4"
   ]
  },
  {
   "cell_type": "code",
   "execution_count": null,
   "id": "6e310c7b",
   "metadata": {},
   "outputs": [],
   "source": [
    "list6 = [10, 20, [300, 400, [5000, 6000], 500], 30, 40]\n",
    "list6[2][2].append(7000)"
   ]
  },
  {
   "cell_type": "code",
   "execution_count": null,
   "id": "fc664829",
   "metadata": {},
   "outputs": [],
   "source": [
    "list6"
   ]
  },
  {
   "cell_type": "code",
   "execution_count": null,
   "id": "d32705ec",
   "metadata": {},
   "outputs": [],
   "source": [
    "list8 = [5, 20, 15, 20, 25, 50, 20]\n",
    "a=set(list8)"
   ]
  },
  {
   "cell_type": "code",
   "execution_count": null,
   "id": "a1f64930",
   "metadata": {},
   "outputs": [],
   "source": [
    "a.remove(20)"
   ]
  },
  {
   "cell_type": "code",
   "execution_count": null,
   "id": "56582589",
   "metadata": {},
   "outputs": [],
   "source": [
    "a"
   ]
  },
  {
   "cell_type": "code",
   "execution_count": null,
   "id": "22c4938e",
   "metadata": {},
   "outputs": [],
   "source": [
    "print('this is a guessing game')\n",
    "import random\n",
    "random_number=random.randrange(1,10)\n",
    "guess=(int(input(\"what whould be the number ?\")))\n",
    "correct=False\n",
    "print(random_number)\n",
    "\n",
    "while not correct:\n",
    "    if guess==random_number:\n",
    "        print('congrats you got it')\n",
    "        correct=True\n",
    "    elif guess>random_number:\n",
    "        print('too high')\n",
    "        break\n",
    "    elif guess<random_number:\n",
    "        print('too low')\n",
    "        break\n",
    "    else:\n",
    "        print('try somthing else')\n",
    "        break\n",
    "    \n"
   ]
  },
  {
   "cell_type": "code",
   "execution_count": null,
   "id": "37a5a901",
   "metadata": {},
   "outputs": [],
   "source": [
    "print('this is a guessing game')\n",
    "import random\n",
    "random_number=random.randrange(1,10)\n",
    "guess=(int(input(\"what would be the number ?\")))\n",
    "print(random_number)\n",
    "correct=False\n",
    "while not correct:\n",
    "    if guess==random_number:\n",
    "        print(\"congrats you got it\")\n",
    "        correct=True\n",
    "    elif guess>random_number:\n",
    "        print(\"too high\")\n",
    "        break\n",
    "    elif guess<random_number:\n",
    "        print(\"too low\")\n",
    "        break\n",
    "    else:\n",
    "        print('try somthing else')\n",
    "        break"
   ]
  },
  {
   "cell_type": "code",
   "execution_count": null,
   "id": "a6d112aa",
   "metadata": {},
   "outputs": [],
   "source": [
    "balance=1500\n",
    "print(\"welcome to the sbi bank ATM\")\n",
    "pin=int(input(\"enter your pin\"))\n",
    "if pin==1234:\n",
    "    print(\"enter 1 for widrawl\")\n",
    "    print(\"enter 2 for balance\")\n",
    "    choice=int(input(\"\"))\n",
    "else:\n",
    "    print(\"wrong pin\",\"try gain\")\n",
    "if choice==2:\n",
    "    print(balance)\n",
    "elif choice==1:\n",
    "    amount=int(input(\"enter amount\"))\n",
    "    if amount>balance:\n",
    "        print(\"insuficient amount\")\n",
    "    print(\"balance\",\"is\", balance-amount)    \n",
    "    \n"
   ]
  },
  {
   "cell_type": "code",
   "execution_count": null,
   "id": "721fbb1f",
   "metadata": {},
   "outputs": [],
   "source": [
    "list1 = [5, 5, 4,5,4,4,219, 15, 23, 25, 50, 20,20]\n",
    "list2 = [5, 20, 11, 21, 25, 56, 29]"
   ]
  },
  {
   "cell_type": "code",
   "execution_count": null,
   "id": "db2b7deb",
   "metadata": {},
   "outputs": [],
   "source": [
    "list3 = []"
   ]
  },
  {
   "cell_type": "code",
   "execution_count": null,
   "id": "f8216a20",
   "metadata": {},
   "outputs": [],
   "source": [
    "for i in list1:\n",
    "    if i not in list2:\n",
    "        list3.append(i)"
   ]
  },
  {
   "cell_type": "code",
   "execution_count": null,
   "id": "711f2ce5",
   "metadata": {},
   "outputs": [],
   "source": [
    "list2"
   ]
  },
  {
   "cell_type": "code",
   "execution_count": null,
   "id": "4087f934",
   "metadata": {},
   "outputs": [],
   "source": []
  },
  {
   "cell_type": "code",
   "execution_count": null,
   "id": "1cb60cd6",
   "metadata": {},
   "outputs": [],
   "source": []
  },
  {
   "cell_type": "code",
   "execution_count": null,
   "id": "eaad2cc2",
   "metadata": {},
   "outputs": [],
   "source": [
    "list1.extend(list2)"
   ]
  },
  {
   "cell_type": "code",
   "execution_count": null,
   "id": "4e2da725",
   "metadata": {},
   "outputs": [],
   "source": [
    "a=set(list1)"
   ]
  },
  {
   "cell_type": "code",
   "execution_count": null,
   "id": "5a055642",
   "metadata": {},
   "outputs": [],
   "source": [
    "b=list(a)"
   ]
  },
  {
   "cell_type": "code",
   "execution_count": null,
   "id": "808021d8",
   "metadata": {},
   "outputs": [],
   "source": [
    "b"
   ]
  },
  {
   "cell_type": "code",
   "execution_count": null,
   "id": "e3c288a3",
   "metadata": {},
   "outputs": [],
   "source": []
  },
  {
   "cell_type": "code",
   "execution_count": null,
   "id": "87154a37",
   "metadata": {},
   "outputs": [],
   "source": [
    "class student:\n",
    "    def add(self,x,y):\n",
    "        c=x+y\n",
    "        return c"
   ]
  },
  {
   "cell_type": "code",
   "execution_count": null,
   "id": "9099104f",
   "metadata": {},
   "outputs": [],
   "source": [
    "ob=student()"
   ]
  },
  {
   "cell_type": "code",
   "execution_count": null,
   "id": "67a74b8a",
   "metadata": {},
   "outputs": [],
   "source": [
    "ob.add(7,36)"
   ]
  },
  {
   "cell_type": "code",
   "execution_count": null,
   "id": "45a27559",
   "metadata": {},
   "outputs": [],
   "source": [
    "class student_record:\n",
    "    def student_detail(self,name,cls,rn):\n",
    "        print(\"name of student\",name)\n",
    "        print(\"class of student\",cls)\n",
    "        print(\"roll of student\",rn)\n",
    "    def students_result(self,marks,per,gr):\n",
    "        print(\"marks of student\",marks)\n",
    "        print(\"per of student\",per)\n",
    "        print(\"grad of student\",gr)\n",
    "        "
   ]
  },
  {
   "cell_type": "code",
   "execution_count": null,
   "id": "ef51fbe4",
   "metadata": {},
   "outputs": [],
   "source": [
    "ob=student_record()"
   ]
  },
  {
   "cell_type": "code",
   "execution_count": null,
   "id": "822a2c22",
   "metadata": {},
   "outputs": [],
   "source": [
    "ob.student_detail(\"ramu\",12,126)\n",
    "ob.students_result(1236,89,\"A\")"
   ]
  },
  {
   "cell_type": "code",
   "execution_count": null,
   "id": "5d30c10f",
   "metadata": {},
   "outputs": [],
   "source": [
    "#class in c\n",
    "class Room {\n",
    "    public:\n",
    "        int length;\n",
    "        int breadth;\n",
    "        int height;   \n",
    "\n",
    "        double calculateArea(){   \n",
    "            return length * breadth;\n",
    "        }\n",
    "\n",
    "        double calculateVolume(){   \n",
    "            return length * breadth * height;\n",
    "        }\n",
    "\n",
    "};"
   ]
  },
  {
   "cell_type": "code",
   "execution_count": null,
   "id": "c453626a",
   "metadata": {},
   "outputs": [],
   "source": [
    "class vsp():\n",
    "    def a(self):\n",
    "        print(\"hi\")\n",
    "    @classmethod\n",
    "    def b(cls):\n",
    "        print(\"helo this is class method\")\n",
    "    @staticmethod\n",
    "    def c():\n",
    "        print(\"this is static method\")\n",
    "        \n",
    "ob=vsp()   \n",
    "ob.a()\n",
    "ob.b()\n",
    "ob.c()        "
   ]
  },
  {
   "cell_type": "code",
   "execution_count": null,
   "id": "419c6adf",
   "metadata": {},
   "outputs": [],
   "source": [
    "#inheritance\n",
    "class a:\n",
    "    def fun1(self):\n",
    "        print(\"A\")\n",
    "class b(a):\n",
    "    def fun2(self):\n",
    "        print(\"B\")\n",
    "class c(b,a):\n",
    "    def fun3(self):\n",
    "        print(\"C\")\n",
    "     \n",
    "f=a()\n",
    "f2=b()\n",
    "f3=c()  \n",
    "f2.fun1()\n",
    "f3.fun2()\n",
    "        "
   ]
  },
  {
   "cell_type": "code",
   "execution_count": null,
   "id": "487562d3",
   "metadata": {},
   "outputs": [],
   "source": [
    "#polimorphism\n",
    "class a:\n",
    "    def vio(self):\n",
    "        print(\"function1\")\n",
    "class b:\n",
    "    def vip(self):\n",
    "        print(\"function2\")   \n",
    "    def vio(self):\n",
    "        print(\"function3\")\n",
    "        \n",
    "        \n",
    "ob=a()\n",
    "ob.vio()\n",
    "ob=b()\n",
    "ob.vip()\n",
    "ob.vio()\n"
   ]
  },
  {
   "cell_type": "code",
   "execution_count": null,
   "id": "f1698e96",
   "metadata": {},
   "outputs": [],
   "source": []
  },
  {
   "cell_type": "code",
   "execution_count": null,
   "id": "e785b414",
   "metadata": {},
   "outputs": [],
   "source": [
    "class abc:\n",
    "    def getvalue(self,x):\n",
    "        self.a=x\n",
    "    def fun(self):\n",
    "        print(self.a)\n",
    "        \n",
    "        "
   ]
  },
  {
   "cell_type": "code",
   "execution_count": null,
   "id": "39151d1d",
   "metadata": {},
   "outputs": [],
   "source": [
    "ob=abc()\n",
    "ob.getvalue(100)\n",
    "ob.fun()"
   ]
  },
  {
   "cell_type": "code",
   "execution_count": null,
   "id": "6f060d6d",
   "metadata": {},
   "outputs": [],
   "source": [
    "class super:\n",
    "    def __inti__(self):\n",
    "        self._value1=100      #protected\n",
    "        self.__value2=200     #private\n",
    "    \n",
    "    def display(self):\n",
    "        print(self._value1)\n",
    "        print(self.__value2)\n",
    "class sub(super):\n",
    "    def show(self):\n",
    "        print(self._value1)\n",
    "        print(self.__value2)"
   ]
  },
  {
   "cell_type": "code",
   "execution_count": null,
   "id": "1584dc12",
   "metadata": {},
   "outputs": [],
   "source": [
    "ob1=super()"
   ]
  },
  {
   "cell_type": "code",
   "execution_count": null,
   "id": "2d29c975",
   "metadata": {},
   "outputs": [],
   "source": [
    "ob1.display()"
   ]
  },
  {
   "cell_type": "code",
   "execution_count": null,
   "id": "7fa58d60",
   "metadata": {},
   "outputs": [],
   "source": [
    "class asdf:\n",
    "    def add(self,x,y):\n",
    "        c=x+y\n",
    "        return c\n",
    "    \n",
    "class s(asdf):\n",
    "    def sub(self,x,y):\n",
    "        c=x-y\n",
    "        return c\n",
    "    \n",
    "o=s()   \n",
    "o.add(8,3)"
   ]
  },
  {
   "cell_type": "code",
   "execution_count": 1,
   "id": "ba86bf62",
   "metadata": {},
   "outputs": [],
   "source": [
    "list1 = [5, 5, 4,5,4,4,219, 15, 23]\n",
    "list2 = [5, 20, 11, 21, 25, 56, 29]\n"
   ]
  },
  {
   "cell_type": "code",
   "execution_count": null,
   "id": "198c804e",
   "metadata": {},
   "outputs": [],
   "source": [
    "# for i in list1:\n",
    "#     if i not in list2:\n",
    "#         list3.append(i)\n",
    "     \n",
    "# n=(set)(list3)\n",
    "# n"
   ]
  },
  {
   "cell_type": "code",
   "execution_count": 8,
   "id": "56dfb7d9",
   "metadata": {},
   "outputs": [],
   "source": [
    "list1.extend(list2)"
   ]
  },
  {
   "cell_type": "code",
   "execution_count": 17,
   "id": "13365a96",
   "metadata": {},
   "outputs": [],
   "source": [
    "a=list(set(list1))"
   ]
  },
  {
   "cell_type": "code",
   "execution_count": 53,
   "id": "d93d6a1e",
   "metadata": {},
   "outputs": [
    {
     "data": {
      "text/plain": [
       "[4, 5, 11, 15, 20, 21, 23, 56, 25, 219, 29]"
      ]
     },
     "execution_count": 53,
     "metadata": {},
     "output_type": "execute_result"
    }
   ],
   "source": [
    "\n",
    "a"
   ]
  },
  {
   "cell_type": "code",
   "execution_count": 56,
   "id": "64bc72c2",
   "metadata": {},
   "outputs": [
    {
     "name": "stdout",
     "output_type": "stream",
     "text": [
      "available at index 1\n"
     ]
    }
   ],
   "source": [
    "n=5\n",
    "for i in range(0,len(a)):\n",
    "    if a[i]==n:\n",
    "        print(\"available at index\",i)\n",
    "        \n",
    "    \n",
    "    "
   ]
  },
  {
   "cell_type": "code",
   "execution_count": 78,
   "id": "2a687e80",
   "metadata": {},
   "outputs": [
    {
     "name": "stdout",
     "output_type": "stream",
     "text": [
      "428\n"
     ]
    }
   ],
   "source": [
    "sum=0\n",
    "for i in range(0,len(a)):\n",
    "    sum=sum+a[i]\n",
    "print(sum)\n",
    "    \n",
    "\n",
    "       \n",
    "        \n",
    "    "
   ]
  },
  {
   "cell_type": "code",
   "execution_count": 79,
   "id": "5990cd25",
   "metadata": {},
   "outputs": [],
   "source": [
    "num1=[1,2,3,4,5,6,7,8,9]\n",
    "num2=[1,2,3,4,5,6,7,8,9]"
   ]
  },
  {
   "cell_type": "code",
   "execution_count": 96,
   "id": "9f25c90f",
   "metadata": {},
   "outputs": [
    {
     "name": "stdout",
     "output_type": "stream",
     "text": [
      "2 2\n",
      "3 3\n",
      "4 4\n",
      "5 5\n",
      "6 6\n",
      "7 7\n",
      "8 8\n",
      "9 9\n"
     ]
    },
    {
     "ename": "IndexError",
     "evalue": "list index out of range",
     "output_type": "error",
     "traceback": [
      "\u001b[1;31m---------------------------------------------------------------------------\u001b[0m",
      "\u001b[1;31mIndexError\u001b[0m                                Traceback (most recent call last)",
      "\u001b[1;32m~\\AppData\\Local\\Temp/ipykernel_2736/1329425571.py\u001b[0m in \u001b[0;36m<module>\u001b[1;34m\u001b[0m\n\u001b[0;32m      1\u001b[0m \u001b[1;32mfor\u001b[0m \u001b[0mi\u001b[0m \u001b[1;32min\u001b[0m \u001b[0mnum1\u001b[0m\u001b[1;33m:\u001b[0m\u001b[1;33m\u001b[0m\u001b[1;33m\u001b[0m\u001b[0m\n\u001b[0;32m      2\u001b[0m     \u001b[1;32mfor\u001b[0m \u001b[0mj\u001b[0m \u001b[1;32min\u001b[0m \u001b[0mnum2\u001b[0m\u001b[1;33m:\u001b[0m\u001b[1;33m\u001b[0m\u001b[1;33m\u001b[0m\u001b[0m\n\u001b[1;32m----> 3\u001b[1;33m         \u001b[0mprint\u001b[0m\u001b[1;33m(\u001b[0m\u001b[0mnum1\u001b[0m\u001b[1;33m[\u001b[0m\u001b[0mj\u001b[0m\u001b[1;33m]\u001b[0m\u001b[1;33m,\u001b[0m\u001b[0mnum2\u001b[0m\u001b[1;33m[\u001b[0m\u001b[0mj\u001b[0m\u001b[1;33m]\u001b[0m\u001b[1;33m)\u001b[0m\u001b[1;33m\u001b[0m\u001b[1;33m\u001b[0m\u001b[0m\n\u001b[0m",
      "\u001b[1;31mIndexError\u001b[0m: list index out of range"
     ]
    }
   ],
   "source": [
    "for i in num1:\n",
    "    for j in num2:\n",
    "        print(num1[j],num2[j])"
   ]
  },
  {
   "cell_type": "code",
   "execution_count": null,
   "id": "10ec6973",
   "metadata": {},
   "outputs": [],
   "source": []
  },
  {
   "cell_type": "code",
   "execution_count": null,
   "id": "0dcecbbd",
   "metadata": {},
   "outputs": [],
   "source": []
  },
  {
   "cell_type": "code",
   "execution_count": null,
   "id": "78f5c626",
   "metadata": {},
   "outputs": [],
   "source": []
  },
  {
   "cell_type": "code",
   "execution_count": null,
   "id": "fe111770",
   "metadata": {},
   "outputs": [],
   "source": []
  },
  {
   "cell_type": "code",
   "execution_count": null,
   "id": "29c0a174",
   "metadata": {},
   "outputs": [],
   "source": []
  },
  {
   "cell_type": "code",
   "execution_count": null,
   "id": "13e994bb",
   "metadata": {},
   "outputs": [],
   "source": []
  },
  {
   "cell_type": "code",
   "execution_count": null,
   "id": "b5e2cbef",
   "metadata": {},
   "outputs": [],
   "source": []
  }
 ],
 "metadata": {
  "kernelspec": {
   "display_name": "Python 3 (ipykernel)",
   "language": "python",
   "name": "python3"
  },
  "language_info": {
   "codemirror_mode": {
    "name": "ipython",
    "version": 3
   },
   "file_extension": ".py",
   "mimetype": "text/x-python",
   "name": "python",
   "nbconvert_exporter": "python",
   "pygments_lexer": "ipython3",
   "version": "3.9.7"
  }
 },
 "nbformat": 4,
 "nbformat_minor": 5
}
